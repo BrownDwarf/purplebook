{
 "cells": [
  {
   "cell_type": "markdown",
   "id": "b059ff03",
   "metadata": {},
   "source": [
    "# Gray Gas Flux \n",
    "### Figure from Chapter 4 of *Principles of Planetary Climate*"
   ]
  },
  {
   "cell_type": "code",
   "execution_count": null,
   "id": "9e748782",
   "metadata": {},
   "outputs": [],
   "source": [
    "# %load ../../scripts/ch04/GreyGasFlux.py"
   ]
  },
  {
   "cell_type": "markdown",
   "id": "221853ac",
   "metadata": {},
   "source": [
    "Computes fluxes and heating rates for the grey gas model. \n",
    "\n",
    "The fluxes are computed as a function of $p/p_s$ (given identifier `pps`), given net optical thickness of the atmosphere $\\tau_{\\infty}$ .\n",
    "\n",
    "Since the OLR is just the upward flux at $p=0$, this can also be used to do grey gas OLR computations.  Different temperature profiles can be treated by just editing the functions $T(p)$ and $\\frac{dT}{dp}(p)$\n",
    "\n",
    "The moist adiabat function in `phys.py` can be used as well, if one employs the option to create an interpolation function that returns temperature at an arbitrary pressure.\n",
    "\n",
    "\n",
    "**Known limitations:**  \n",
    "The optically thick approximation breaks down near the top of the atmosphere, especially with pressure broadening included. This makes plotting difficult. Currently it's handled with a value cutoff, but there's probably a better way."
   ]
  },
  {
   "cell_type": "code",
   "execution_count": null,
   "id": "5badb5c5",
   "metadata": {},
   "outputs": [],
   "source": [
    "import math\n",
    "import purplebook.ClimateGraphicsMPL as ClimateGraphicsMPL\n",
    "import purplebook.ClimateUtilities as ClimateUtilities\n",
    "from purplebook.ClimateUtilities import *\n",
    "import purplebook.phys as phys"
   ]
  },
  {
   "cell_type": "code",
   "execution_count": null,
   "id": "e49a3f2e",
   "metadata": {},
   "outputs": [],
   "source": [
    "from astropy.constants import sigma_sb"
   ]
  },
  {
   "cell_type": "code",
   "execution_count": null,
   "id": "a08785e4",
   "metadata": {},
   "outputs": [],
   "source": [
    "sigma_sb.value"
   ]
  },
  {
   "cell_type": "markdown",
   "id": "23be28c5",
   "metadata": {},
   "source": [
    "Specify temperature as a function of $p/p_s$, so `pps` symbolizes pressure divided by surface pressure.   \n",
    "$T_{strat}$ and $T_s$ are set as globals."
   ]
  },
  {
   "cell_type": "code",
   "execution_count": null,
   "id": "12b68b0a",
   "metadata": {},
   "outputs": [],
   "source": [
    "import numpy as np\n",
    "import matplotlib.pyplot as plt\n",
    "import seaborn as sns\n",
    "sns.set_context('notebook', font_scale=1.3)\n",
    "%config InlineBackend.figure_format='retina'"
   ]
  },
  {
   "cell_type": "markdown",
   "id": "ed0e4ebb",
   "metadata": {},
   "source": [
    "Define our global variables"
   ]
  },
  {
   "cell_type": "code",
   "execution_count": null,
   "id": "73a0ffb3",
   "metadata": {},
   "outputs": [],
   "source": [
    "n_layers = 101\n",
    "p = np.linspace(1/n_layers, 1, num=n_layers)\n",
    "Rcp = 2.0/7.0\n",
    "Tstrat = 0.0 #Stratospheric temperature\n",
    "Ts = 300.0 #Surface air temperature\n",
    "Tg = 300.0 #Ground temperature"
   ]
  },
  {
   "cell_type": "markdown",
   "id": "a713cae0",
   "metadata": {},
   "source": [
    "The temperature profile is given simply by the dry adiabatic lapse rate.\n",
    "$$T(p) = T_{s} \\cdot \\left( \\frac{p}{p_s} \\right)^{R/c_p}$$"
   ]
  },
  {
   "cell_type": "code",
   "execution_count": null,
   "id": "2f0984b3",
   "metadata": {},
   "outputs": [],
   "source": [
    "def T(pps):\n",
    "    '''Adiabatic Temperature as a function of pressure'''\n",
    "    Tadiabat = Ts*(pps)**Rcp\n",
    "    T_realized = np.maximum(Tstrat,Tadiabat)\n",
    "    return np.maximum(T_realized, 0.0)"
   ]
  },
  {
   "cell_type": "code",
   "execution_count": null,
   "id": "b9e42fc9",
   "metadata": {},
   "outputs": [],
   "source": [
    "plt.plot(T(p), p);\n",
    "plt.ylabel('$p/p_s$'); plt.xlabel('$T(p)\\;$(K)')\n",
    "plt.yscale('log');\n",
    "plt.text(100, np.min(p)*1.3, 'Top of Atmosphere', color='#bdc3c7')\n",
    "plt.text(200, np.max(p)/1.1, 'Surface', color='#bdc3c7')\n",
    "plt.ylim(1, np.min(p)); plt.xlim(0, 300);\n",
    "plt.title('Pressure-Temperature profile for \\nall troposphere Gray Gas model', fontsize=12);"
   ]
  },
  {
   "cell_type": "markdown",
   "id": "2bda0014",
   "metadata": {},
   "source": [
    "We see a familiar dry adiabatic convection curve.  From Equation 4.37 in the book, we will also need the derivative of tempature with-respect-to-pressure:  \n",
    "$$\\frac{dT}{d(p/ps)}= R/c_p \\cdot T_s \\cdot (p/p_s)^{(R/c_p -1)}$$"
   ]
  },
  {
   "cell_type": "code",
   "execution_count": null,
   "id": "17c9b940",
   "metadata": {},
   "outputs": [],
   "source": [
    "def dTdp(pps):\n",
    "    dTadiabat = Rcp*Ts*(pps)**(Rcp-1)\n",
    "    dT_realized = np.maximum(dTadiabat, 0)\n",
    "    return dT_realized"
   ]
  },
  {
   "cell_type": "code",
   "execution_count": null,
   "id": "758e898a",
   "metadata": {},
   "outputs": [],
   "source": [
    "plt.plot(dTdp(p), p);\n",
    "plt.ylabel('$p/p_s$'); plt.xlabel(r'$\\frac{dT}{dp}$', fontsize=18)\n",
    "plt.yscale('log');\n",
    "\n",
    "plt.ylim(1, 1e-2);# plt.xlim(0, 300)"
   ]
  },
  {
   "cell_type": "markdown",
   "id": "e1f4f34c",
   "metadata": {},
   "source": [
    "Equation 4.10 is the *transmission function*: is the proportion of incident energy flux that is transmitted through a layer of atmosphere extending from $p_1$ to $p_2$.  \n",
    "\n",
    "Recall the definition of $\\tau$ for when $\\kappa$ is constant with pressure (i.e. no pressure broadening):\n",
    "\n",
    "$\\tau_{\\infty} - \\tau = \\kappa p/g = \\tau_{\\infty} p/p_s$"
   ]
  },
  {
   "cell_type": "markdown",
   "id": "7f50f81a",
   "metadata": {},
   "source": [
    "You can verify that $\\tau$ is dimensionless through dimensional analysis in cgs units:  \n",
    "\n",
    "$$\\kappa \\sim \\frac{\\text{cm}^2}{\\text{gram}}$$ \n",
    "$$p \\sim \\frac{\\text{force}}{\\text{area}} = \\frac{\\text{gram}\\; \\text{s}^{-2}}{\\text{cm}}$$ \n",
    "$$g \\sim \\frac{\\text{cm}}{\\text{s}^{2}}$$  \n",
    "yielding a cancellation of all units:\n",
    "$$\\frac{\\text{cm}^2}{\\text{gram}} \\cdot \\frac{\\text{gram}\\; \\text{s}^{-2}}{\\text{cm}} \\cdot \\frac{\\text{s}^{2}}{\\text{cm}} \\sim \\frac{1}{1}$$"
   ]
  },
  {
   "cell_type": "code",
   "execution_count": null,
   "id": "363ff446",
   "metadata": {},
   "outputs": [],
   "source": [
    "def Trans(tau1,tau2):\n",
    "    return np.exp(-np.abs(tau1-tau2))"
   ]
  },
  {
   "cell_type": "markdown",
   "id": "c3509bae",
   "metadata": {},
   "source": [
    "Combining Equation 4.18 and 4.37, we have:\n",
    "\n",
    "$$ I_+ - I_- = 2 \\frac{g \\cos{\\bar \\theta}}{\\kappa}(4 \\sigma T^3) \\frac{dT}{dp}$$"
   ]
  },
  {
   "cell_type": "code",
   "execution_count": null,
   "id": "4e02f3f1",
   "metadata": {},
   "outputs": [],
   "source": [
    "def integrand(ppsp,tauinf, pps):\n",
    "    tau1 = tauinf * (1.0 - ppsp)\n",
    "    tau2 = tauinf * (1.0 - pps)    \n",
    "    return Trans(tau1,tau2)* 4.0 * sigma_sb.values * T(ppsp)**3 * dTdp(ppsp)"
   ]
  },
  {
   "cell_type": "code",
   "execution_count": null,
   "id": "91b45bc9",
   "metadata": {},
   "outputs": [],
   "source": [
    "from scipy.integrate import romberg as romberg_scipy"
   ]
  },
  {
   "cell_type": "markdown",
   "id": "9f88bdef",
   "metadata": {},
   "source": [
    "Compute the upwelling and downwelling flux, $I^+$ and $I^-$, and the heating $H=I^+-I^-$"
   ]
  },
  {
   "cell_type": "code",
   "execution_count": null,
   "id": "6dc676b1",
   "metadata": {},
   "outputs": [],
   "source": [
    "def Iplus(pps,tauinf):\n",
    "    limit = min(1.,pps+10./tauinf)\n",
    "    quad = romberg(integrand,10)\n",
    "    tau = tauinf * (1-pps)\n",
    "    # The term below will be zero if Tg=Ts\n",
    "    BddTerm = (sigma_sb.value * Tg**4 - sigma_sb.value * Ts**4)*Trans(0.,tau)\n",
    "    return quad([pps,limit],params,.1) + sigma_sb.value*T(pps)**4 + BddTerm"
   ]
  },
  {
   "cell_type": "code",
   "execution_count": null,
   "id": "8fc2293e",
   "metadata": {},
   "outputs": [],
   "source": [
    "def Iminus(pps,tauinf):\n",
    "    params = Dummy()\n",
    "    params.pps = pps\n",
    "    params.tauinf = tauinf\n",
    "    limit = max(0.,pps-10./tauinf)\n",
    "    quad = romberg(integrand,10)\n",
    "    if PressureBroadening:\n",
    "        tau = tauinf*(1.-pps**2)\n",
    "    else:\n",
    "        tau = tauinf*(1.-pps)\n",
    "    return quad([pps,0.],params,.1)+ phys.sigma*T(pps)**4 - phys.sigma*Tstrat**4*Trans(tau,tauinf)"
   ]
  },
  {
   "cell_type": "code",
   "execution_count": null,
   "id": "dae05b18",
   "metadata": {},
   "outputs": [],
   "source": [
    "#This function returns a curve object containing\n",
    "#the net upward flux as a function of p/ps (i.e. pressure\n",
    "#relative to surface pressure) , and also gives\n",
    "#the optically thick approximation to the net upward flux\n",
    "#\n",
    "#Note that the heating in the optically thick approximation becomes\n",
    "#very large in the upper atmosphere, where, the approximation breaks\n",
    "#down.  To keep this divergence from messing up the axes of the graph,\n",
    "#in this routine, the heating rate is cut off at a maximum value, that\n",
    "#is chosen to be large enough that one can see the divergence between\n",
    "#the asymptotic and exact (numerical) result.  The flat regions\n",
    "#of heating in the graph thus have no physical meaning. \n",
    "def heatList(tauinf):\n",
    "    c = Curve()\n",
    "    c.addCurve(p,'p')\n",
    "    Ip = [Iplus(pps,tauinf) for pps in p]\n",
    "    Im = [Iminus(pps,tauinf) for pps in p]\n",
    "    h = [Ip[i]-Im[i] for i in range(len(p))]\n",
    "    #**ToDo: Find some better way to keep the optically thick curve from messing up the plots\n",
    "    if PressureBroadening:\n",
    "        h1 = [(.5/(pps+1.e-10))*2.*4.*5.67e-8*T(pps)**3*dTdp(pps)/tauinf for pps in p]\n",
    "    else:\n",
    "        h1 = [2.*4.*5.67e-8*T(pps)**3*dTdp(pps)/tauinf for pps in p]\n",
    "    #\n",
    "    #Cut off the maximum of h1 so it doesn't wreck the plot of h\n",
    "    maxh = max(h)\n",
    "    h1 = [min(hh1,2.*maxh) for hh1 in h1]\n",
    "    #\n",
    "    c.addCurve(h,'NetFlux','Net Flux, Computed')\n",
    "    c.addCurve(h1,'NetFluxThick','Net Flux, optically thick approx')\n",
    "    #Set up options to plot as a profile\n",
    "    c.switchXY = c.reverseY = True\n",
    "    #Labels and title\n",
    "    c.PlotTitle = 'tauInf = %f'%tauinf\n",
    "    c.Ylabel = 'Flux, W/m**2'\n",
    "    c.Xlabel = 'Normalized Pressure'\n",
    "    return(c)"
   ]
  },
  {
   "cell_type": "code",
   "execution_count": null,
   "id": "860ac6b1",
   "metadata": {},
   "outputs": [],
   "source": []
  },
  {
   "cell_type": "code",
   "execution_count": null,
   "id": "617694aa",
   "metadata": {},
   "outputs": [],
   "source": [
    "#Do the plots\n",
    "c1 = heatList(1.)\n",
    "c10 = heatList(10.)\n",
    "c50 = heatList(50.)"
   ]
  },
  {
   "cell_type": "code",
   "execution_count": null,
   "id": "0716538f",
   "metadata": {},
   "outputs": [],
   "source": [
    "from purplebook.ClimateGraphicsMPL import plot"
   ]
  },
  {
   "cell_type": "code",
   "execution_count": null,
   "id": "ce5a9714",
   "metadata": {},
   "outputs": [],
   "source": []
  },
  {
   "cell_type": "code",
   "execution_count": null,
   "id": "633b9e5d",
   "metadata": {},
   "outputs": [],
   "source": [
    "plot(c1)\n",
    "#Note: In the text, we suppressed the plotting of\n",
    "#the optically thick limit for the tauInf = 1 case, because\n",
    "#the optically thick approximation is very inaccurate in this\n",
    "#case and expands the scale of the graph so much it's hard to\n",
    "#see the variation in the correct result. \n",
    "plot(c10)\n",
    "plot(c50)\n",
    "\n",
    "#This script can also be used to plot OLR vs. Tg or tauinf,\n",
    "#as illustated below. The OLR is just Iplus(0,tauinf).\n",
    "tauList = [.1*i for i in range(1,500)]\n",
    "OLRList = [Iplus(0.,tauInf) for tauInf in tauList]\n",
    "cOLR=Curve()\n",
    "cOLR.PlotTitle ='OLR vs optical depth'\n",
    "cOLR.addCurve(tauList,'TauInf')\n",
    "cOLR.addCurve(OLRList,'OLR')\n",
    "plot(cOLR);"
   ]
  },
  {
   "cell_type": "markdown",
   "id": "ff23835a",
   "metadata": {},
   "source": [
    "Woooo!  We managed to get the code to run and replicate book figures! Awesome!"
   ]
  }
 ],
 "metadata": {
  "celltoolbar": "Raw Cell Format",
  "kernelspec": {
   "display_name": "Python 3 (ipykernel)",
   "language": "python",
   "name": "python3"
  },
  "language_info": {
   "codemirror_mode": {
    "name": "ipython",
    "version": 3
   },
   "file_extension": ".py",
   "mimetype": "text/x-python",
   "name": "python",
   "nbconvert_exporter": "python",
   "pygments_lexer": "ipython3",
   "version": "3.8.12"
  }
 },
 "nbformat": 4,
 "nbformat_minor": 5
}

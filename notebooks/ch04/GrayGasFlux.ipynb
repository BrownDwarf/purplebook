{
 "cells": [
  {
   "cell_type": "markdown",
   "id": "b059ff03",
   "metadata": {},
   "source": [
    "# Gray Gas Flux \n",
    "### Figure from Chapter 4 of *Principles of Planetary Climate*"
   ]
  },
  {
   "cell_type": "code",
   "execution_count": null,
   "id": "9e748782",
   "metadata": {},
   "outputs": [],
   "source": [
    "# %load ../../scripts/ch04/GreyGasFlux.py"
   ]
  },
  {
   "cell_type": "code",
   "execution_count": null,
   "id": "84dc5190",
   "metadata": {},
   "outputs": [],
   "source": [
    "#===================================================================\n",
    "#Computes fluxes and heating rates for the grey gas model.\n",
    "#The fluxes are computed as a function of p/ps, given net optical\n",
    "#thickness of the atmosphere tauinf .\n",
    "#\n",
    "#Since the OLR is just the upward flux at p=0, this can also\n",
    "#be used to do grey gas OLR computations.  Different temperature\n",
    "#profiles can be treated by just editing the\n",
    "#functions T(pps) and dTdp(pps)\n",
    "#\n",
    "#The moist adiabat function in phys.py can be used as well,\n",
    "#if one employs the option to create an interpolation function that\n",
    "#returns temperature at an arbitrary pressure.\n",
    "#==================================================================="
   ]
  },
  {
   "cell_type": "code",
   "execution_count": null,
   "id": "bb6888d2",
   "metadata": {},
   "outputs": [],
   "source": [
    "#Data on section of text which this script is associated with\n",
    "Chapter = '4.**'\n",
    "Figure = 'fig:AllTropNetIRFluxGrey'\n",
    "#\n",
    "#This is also the solution script for\n",
    "Problem = '{Workbook:RadBalance2:PressBroadenedHeating}'\n",
    "#This script can also be modified to use for the problem\n",
    "# '{Workbook:RadBalance2:StratTropOLRGrey}'\n",
    "\n",
    "#**ToDo:  \n",
    "#\n",
    "#         *The optically thick approximation breaks down near the top\n",
    "#          of the atmosphere, especially with pressure broadening included.\n",
    "#          This makes plotting difficult. Currently it's handled with a value\n",
    "#          cutoff, but there's probably a better way."
   ]
  },
  {
   "cell_type": "code",
   "execution_count": null,
   "id": "5badb5c5",
   "metadata": {},
   "outputs": [],
   "source": [
    "import math\n",
    "import purplebook.ClimateGraphicsMPL as ClimateGraphicsMPL\n",
    "import purplebook.ClimateUtilities as ClimateUtilities\n",
    "from purplebook.ClimateUtilities import *\n",
    "import purplebook.phys as phys"
   ]
  },
  {
   "cell_type": "code",
   "execution_count": null,
   "id": "17c9b940",
   "metadata": {},
   "outputs": [],
   "source": [
    "#Specify temperature as a function of p/ps\n",
    "#pps is pressure divided by surface pressure. Note\n",
    "#temperature gradient is written as dT/d(p/ps).\n",
    "#Tstrat and Ts are set as globals\n",
    "def T(pps):\n",
    "    #This if block takes care of round off error, which\n",
    "    #can make pressure go slightly negative at the top of\n",
    "    #the atmosphere sometimes\n",
    "    if pps > 0.:\n",
    "        Tadiabat = Ts*(pps)**Rcp\n",
    "    else:\n",
    "        Tadiabat = 0.\n",
    "    #Return the adiabatic temperature, or the stratospheric\n",
    "    #temperature, if it is less\n",
    "    return max(Tstrat,Tadiabat)\n",
    "def dTdp(pps):\n",
    "    #This if block takes care of round off error, which\n",
    "    #can make pressure go slightly negative at the top of\n",
    "    #the atmosphere sometimes\n",
    "    if abs(T(pps) - Tstrat) < 1.e-6:\n",
    "        dTadiabat = 0.\n",
    "    else:\n",
    "        dTadiabat = Rcp*Ts*(pps)**(Rcp-1)\n",
    "    return dTadiabat"
   ]
  },
  {
   "cell_type": "code",
   "execution_count": null,
   "id": "758e898a",
   "metadata": {},
   "outputs": [],
   "source": []
  },
  {
   "cell_type": "code",
   "execution_count": null,
   "id": "a0731bad",
   "metadata": {},
   "outputs": [],
   "source": [
    "#Grey gas transmission function.\n",
    "#tauinf is a global\n",
    "def Trans(tau1,tau2):\n",
    "    return math.exp(-abs(tau1-tau2))\n",
    "\n",
    "#Integrand for upward or downward flux. Note that\n",
    "#the Schwartzschild integral is written here as an integral\n",
    "#over p/ps, and correspondingly the gradient of T is written as\n",
    "#dT/d(p/ps). The solution is written in the form of\n",
    "#Eq. (4.13) (in First Edition).\n",
    "#\n",
    "#Change log:\n",
    "#     *5/20/2012: I changed the definition of tau1 and tau2\n",
    "#      to correspond to the definition in the text. This doesn't\n",
    "#      change the result, since Trans just depends on |tau1-tau2|\n",
    "#\n",
    "#     *5/20/2012: Fixed the boundary terms in Iplus and Iminus.\n",
    "#      These terms didn't affect any results shown in the text but\n",
    "#      make a difference if Tg differs from Ts, or (for Iminus)\n",
    "#      if Tstrat is nonzero\n",
    "#"
   ]
  },
  {
   "cell_type": "code",
   "execution_count": null,
   "id": "4e02f3f1",
   "metadata": {},
   "outputs": [],
   "source": [
    "def integrand(ppsp,params):\n",
    "    #Without pressure broadening\n",
    "    if PressureBroadening:\n",
    "        tau1 = params.tauinf*(1.-ppsp**2)\n",
    "        tau2 = params.tauinf*(1.-params.pps**2)\n",
    "    else:\n",
    "        tau1 = params.tauinf*(1.-ppsp)\n",
    "        tau2 = params.tauinf*(1. - params.pps)    \n",
    "    return Trans(tau1,tau2)*4.*phys.sigma*T(ppsp)**3*dTdp(ppsp)"
   ]
  },
  {
   "cell_type": "code",
   "execution_count": null,
   "id": "8fc2293e",
   "metadata": {},
   "outputs": [],
   "source": [
    "def Iplus(pps,tauinf):\n",
    "    params = Dummy()\n",
    "    params.pps = pps\n",
    "    params.tauinf = tauinf\n",
    "    limit = min(1.,pps+10./tauinf)\n",
    "    quad = romberg(integrand,10)\n",
    "    if PressureBroadening:\n",
    "        tau = tauinf*(1.-pps**2)\n",
    "    else:\n",
    "        tau = tauinf*(1.-pps)\n",
    "    BddTerm = (phys.sigma*Tg**4 - phys.sigma*Ts**4)*Trans(0.,tau)\n",
    "    return quad([pps,limit],params,.1)+ phys.sigma*T(pps)**4 +BddTerm\n",
    "\n",
    "def Iminus(pps,tauinf):\n",
    "    params = Dummy()\n",
    "    params.pps = pps\n",
    "    params.tauinf = tauinf\n",
    "    limit = max(0.,pps-10./tauinf)\n",
    "    quad = romberg(integrand,10)\n",
    "    if PressureBroadening:\n",
    "        tau = tauinf*(1.-pps**2)\n",
    "    else:\n",
    "        tau = tauinf*(1.-pps)\n",
    "    return quad([pps,0.],params,.1)+ phys.sigma*T(pps)**4 - phys.sigma*Tstrat**4*Trans(tau,tauinf)"
   ]
  },
  {
   "cell_type": "code",
   "execution_count": null,
   "id": "dae05b18",
   "metadata": {},
   "outputs": [],
   "source": [
    "#This function returns a curve object containing\n",
    "#the net upward flux as a function of p/ps (i.e. pressure\n",
    "#relative to surface pressure) , and also gives\n",
    "#the optically thick approximation to the net upward flux\n",
    "#\n",
    "#Note that the heating in the optically thick approximation becomes\n",
    "#very large in the upper atmosphere, where, the approximation breaks\n",
    "#down.  To keep this divergence from messing up the axes of the graph,\n",
    "#in this routine, the heating rate is cut off at a maximum value, that\n",
    "#is chosen to be large enough that one can see the divergence between\n",
    "#the asymptotic and exact (numerical) result.  The flat regions\n",
    "#of heating in the graph thus have no physical meaning. \n",
    "def heatList(tauinf):\n",
    "    c = Curve()\n",
    "    c.addCurve(p,'p')\n",
    "    Ip = [Iplus(pps,tauinf) for pps in p]\n",
    "    Im = [Iminus(pps,tauinf) for pps in p]\n",
    "    h = [Ip[i]-Im[i] for i in range(len(p))]\n",
    "    #**ToDo: Find some better way to keep the optically thick curve from messing up the plots\n",
    "    if PressureBroadening:\n",
    "        h1 = [(.5/(pps+1.e-10))*2.*4.*5.67e-8*T(pps)**3*dTdp(pps)/tauinf for pps in p]\n",
    "    else:\n",
    "        h1 = [2.*4.*5.67e-8*T(pps)**3*dTdp(pps)/tauinf for pps in p]\n",
    "    #\n",
    "    #Cut off the maximum of h1 so it doesn't wreck the plot of h\n",
    "    maxh = max(h)\n",
    "    h1 = [min(hh1,2.*maxh) for hh1 in h1]\n",
    "    #\n",
    "    c.addCurve(h,'NetFlux','Net Flux, Computed')\n",
    "    c.addCurve(h1,'NetFluxThick','Net Flux, optically thick approx')\n",
    "    #Set up options to plot as a profile\n",
    "    c.switchXY = c.reverseY = True\n",
    "    #Labels and title\n",
    "    c.PlotTitle = 'tauInf = %f'%tauinf\n",
    "    c.Ylabel = 'Flux, W/m**2'\n",
    "    c.Xlabel = 'Normalized Pressure'\n",
    "    return(c)"
   ]
  },
  {
   "cell_type": "code",
   "execution_count": null,
   "id": "860ac6b1",
   "metadata": {},
   "outputs": [],
   "source": [
    "#These are all globals\n",
    "p = [0.01*i for i in range(101)]\n",
    "Rcp = 2./7.\n",
    "Tstrat = 0. #Stratospheric temperature\n",
    "Ts = 300. #Surface air temperature\n",
    "Tg = 300. #Ground temperature\n",
    "#Say whether you want pressure broadening or not\n",
    "PressureBroadening = False"
   ]
  },
  {
   "cell_type": "code",
   "execution_count": null,
   "id": "617694aa",
   "metadata": {},
   "outputs": [],
   "source": [
    "#Do the plots\n",
    "c1 = heatList(1.)\n",
    "c10 = heatList(10.)\n",
    "c50 = heatList(50.)"
   ]
  },
  {
   "cell_type": "code",
   "execution_count": null,
   "id": "0716538f",
   "metadata": {},
   "outputs": [],
   "source": [
    "from purplebook.ClimateGraphicsMPL import plot"
   ]
  },
  {
   "cell_type": "code",
   "execution_count": null,
   "id": "ce5a9714",
   "metadata": {},
   "outputs": [],
   "source": [
    "%config InlineBackend.figure_format='retina'"
   ]
  },
  {
   "cell_type": "code",
   "execution_count": null,
   "id": "633b9e5d",
   "metadata": {},
   "outputs": [],
   "source": [
    "plot(c1)\n",
    "#Note: In the text, we suppressed the plotting of\n",
    "#the optically thick limit for the tauInf = 1 case, because\n",
    "#the optically thick approximation is very inaccurate in this\n",
    "#case and expands the scale of the graph so much it's hard to\n",
    "#see the variation in the correct result. \n",
    "plot(c10)\n",
    "plot(c50)\n",
    "\n",
    "#This script can also be used to plot OLR vs. Tg or tauinf,\n",
    "#as illustated below. The OLR is just Iplus(0,tauinf).\n",
    "tauList = [.1*i for i in range(1,500)]\n",
    "OLRList = [Iplus(0.,tauInf) for tauInf in tauList]\n",
    "cOLR=Curve()\n",
    "cOLR.PlotTitle ='OLR vs optical depth'\n",
    "cOLR.addCurve(tauList,'TauInf')\n",
    "cOLR.addCurve(OLRList,'OLR')\n",
    "plot(cOLR);"
   ]
  },
  {
   "cell_type": "markdown",
   "id": "ff23835a",
   "metadata": {},
   "source": [
    "Woooo!  We managed to get the code to run and replicate book figures! Awesome!"
   ]
  }
 ],
 "metadata": {
  "kernelspec": {
   "display_name": "Python 3 (ipykernel)",
   "language": "python",
   "name": "python3"
  },
  "language_info": {
   "codemirror_mode": {
    "name": "ipython",
    "version": 3
   },
   "file_extension": ".py",
   "mimetype": "text/x-python",
   "name": "python",
   "nbconvert_exporter": "python",
   "pygments_lexer": "ipython3",
   "version": "3.8.12"
  }
 },
 "nbformat": 4,
 "nbformat_minor": 5
}

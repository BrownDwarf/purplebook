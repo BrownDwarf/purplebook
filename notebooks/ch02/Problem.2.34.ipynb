{
 "cells": [
  {
   "cell_type": "code",
   "execution_count": 1,
   "id": "23b0e892",
   "metadata": {},
   "outputs": [],
   "source": [
    "import numpy as np\n",
    "import matplotlib.pyplot as plt"
   ]
  },
  {
   "cell_type": "code",
   "execution_count": 2,
   "id": "d6fdff9a",
   "metadata": {},
   "outputs": [],
   "source": [
    "T0=-56.6+273.15 #K\n",
    "psat0=5.1*101325 #Pascals\n",
    "LdivR_A=3138 #K"
   ]
  },
  {
   "cell_type": "code",
   "execution_count": 3,
   "id": "8d2bb149",
   "metadata": {},
   "outputs": [],
   "source": [
    "def psat(T):\n",
    "    return psat0*np.exp((-LdivR_A)*((1/T)-(1/T0)))"
   ]
  },
  {
   "cell_type": "code",
   "execution_count": 4,
   "id": "61168dcc",
   "metadata": {
    "scrolled": true
   },
   "outputs": [
    {
     "name": "stdout",
     "output_type": "stream",
     "text": [
      "The temperature on the 7mb Martian surface has to drop below 147 K before CO2 condenses into ice.\n"
     ]
    }
   ],
   "source": [
    "T_in=500\n",
    "psat_calc=psat(T_in)\n",
    "while psat_calc>7*100: #mbar to pascals\n",
    "    psat_calc=psat(T_in)\n",
    "    T_in-=1\n",
    "print(\"The temperature on the 7mb Martian surface has to drop below\", T_in, \"K before CO2 condenses into ice.\")"
   ]
  },
  {
   "cell_type": "code",
   "execution_count": null,
   "id": "554fa21f",
   "metadata": {},
   "outputs": [],
   "source": []
  }
 ],
 "metadata": {
  "kernelspec": {
   "display_name": "Python 3",
   "language": "python",
   "name": "python3"
  },
  "language_info": {
   "codemirror_mode": {
    "name": "ipython",
    "version": 3
   },
   "file_extension": ".py",
   "mimetype": "text/x-python",
   "name": "python",
   "nbconvert_exporter": "python",
   "pygments_lexer": "ipython3",
   "version": "3.8.8"
  }
 },
 "nbformat": 4,
 "nbformat_minor": 5
}

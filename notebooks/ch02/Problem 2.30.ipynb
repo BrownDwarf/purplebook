{
 "cells": [
  {
   "cell_type": "code",
   "execution_count": 1,
   "metadata": {},
   "outputs": [],
   "source": [
    "import numpy as np\n",
    "import matplotlib.pyplot as plt\n",
    "import math"
   ]
  },
  {
   "cell_type": "code",
   "execution_count": 14,
   "metadata": {},
   "outputs": [],
   "source": [
    "T_s = 300\n",
    "g = 9.8\n",
    "cp = 1037\n",
    "R_starred = 8314.5 #(m/s)^2 /K\n",
    "M = 44 #g/mol\n",
    "R = R_starred/M"
   ]
  },
  {
   "cell_type": "code",
   "execution_count": 15,
   "metadata": {},
   "outputs": [],
   "source": [
    "def T(z):\n",
    "    return T_s-(g/cp)*z"
   ]
  },
  {
   "cell_type": "code",
   "execution_count": 16,
   "metadata": {},
   "outputs": [],
   "source": [
    "from scipy.integrate import quad\n",
    "\n",
    "# function we want to integrate\n",
    "def T_harm(z):\n",
    "    return 1/(z*T(z))"
   ]
  },
  {
   "cell_type": "code",
   "execution_count": 18,
   "metadata": {},
   "outputs": [
    {
     "name": "stderr",
     "output_type": "stream",
     "text": [
      "<ipython-input-18-71bdbe9a3527>:3: IntegrationWarning: The maximum number of subdivisions (50) has been achieved.\n",
      "  If increasing the limit yields no improvement it is advised to analyze \n",
      "  the integrand in order to determine the difficulties.  If the position of a \n",
      "  local difficulty can be determined (singularity, discontinuity) one will \n",
      "  probably gain from splitting up the interval and calling the integrator \n",
      "  on the subranges.  Perhaps a special-purpose integrator should be used.\n",
      "  res, err = quad(T_harm, 0, z)\n"
     ]
    },
    {
     "name": "stdout",
     "output_type": "stream",
     "text": [
      "The initial pressure at an altitude of zero is inf K.\n",
      "The final pressure at an altitude of 200 is 1.0 K.\n"
     ]
    },
    {
     "name": "stderr",
     "output_type": "stream",
     "text": [
      "<ipython-input-18-71bdbe9a3527>:23: RuntimeWarning: overflow encountered in exp\n",
      "  print('The initial pressure at an altitude of zero is', np.exp(p_solution[0]), 'K.')\n"
     ]
    }
   ],
   "source": [
    "# Define a function which calculates the derivative\n",
    "def f(p, z):\n",
    "    res, err = quad(T_harm, 0, z)\n",
    "    T_in = res\n",
    "    return -(p*g)/(R*T_in)\n",
    "\n",
    "a=0.00001 #start of the interval                                                  \n",
    "b=2000 # end of the interval\n",
    "N= 1000 #number of steps\n",
    "h=(b-a)/N #size of an individual step                                          \n",
    "\n",
    "##Euler's method                                                                                                                                   \n",
    "p=100000 #initial condition\n",
    "\n",
    "zpoints=np.arange(a,b,h)\n",
    "\n",
    "p_solution=[]\n",
    "\n",
    "for z in zpoints:\n",
    "    p_solution.append(p)\n",
    "    p = p+h*f(p, z)\n",
    "\n",
    "print('The initial pressure at an altitude of zero is', np.exp(p_solution[0]), 'K.')\n",
    "print('The final pressure at an altitude of 200 is', np.exp(p_solution[-1]), 'K.')"
   ]
  },
  {
   "cell_type": "code",
   "execution_count": null,
   "metadata": {},
   "outputs": [],
   "source": []
  }
 ],
 "metadata": {
  "kernelspec": {
   "display_name": "Python 3",
   "language": "python",
   "name": "python3"
  },
  "language_info": {
   "codemirror_mode": {
    "name": "ipython",
    "version": 3
   },
   "file_extension": ".py",
   "mimetype": "text/x-python",
   "name": "python",
   "nbconvert_exporter": "python",
   "pygments_lexer": "ipython3",
   "version": "3.8.3"
  }
 },
 "nbformat": 4,
 "nbformat_minor": 5
}

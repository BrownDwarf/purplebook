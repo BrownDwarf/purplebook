{
 "cells": [
  {
   "cell_type": "code",
   "execution_count": 1,
   "id": "120cffbf",
   "metadata": {},
   "outputs": [],
   "source": [
    "import numpy as np\n",
    "import matplotlib.pyplot as plt"
   ]
  },
  {
   "cell_type": "code",
   "execution_count": 2,
   "id": "1d034eb0",
   "metadata": {},
   "outputs": [],
   "source": [
    "#Input in terms of millibar,m/s^2,km\n",
    "def mass_atmos(ps,g,r):\n",
    "    r=r*1000\n",
    "    ps=ps*100 #mb to Pa\n",
    "    return (ps/g)*4*np.pi*(r)**2"
   ]
  },
  {
   "cell_type": "code",
   "execution_count": 3,
   "id": "560c4bbe",
   "metadata": {},
   "outputs": [
    {
     "name": "stdout",
     "output_type": "stream",
     "text": [
      "The mass of Earth's atmosphere is 5.21618298492373e+18 kg.\n"
     ]
    }
   ],
   "source": [
    "print(\"The mass of Earth's atmosphere is\", mass_atmos(1000,9.8,6378), \"kg.\")"
   ]
  },
  {
   "cell_type": "code",
   "execution_count": 4,
   "id": "20da3f29",
   "metadata": {},
   "outputs": [
    {
     "name": "stdout",
     "output_type": "stream",
     "text": [
      "The mass of Mars' atmosphere is 2.341848449793682e+16 kg.\n"
     ]
    }
   ],
   "source": [
    "print(\"The mass of Mars' atmosphere is\", mass_atmos(6,3.7,3390), \"kg.\")"
   ]
  }
 ],
 "metadata": {
  "kernelspec": {
   "display_name": "Python 3",
   "language": "python",
   "name": "python3"
  },
  "language_info": {
   "codemirror_mode": {
    "name": "ipython",
    "version": 3
   },
   "file_extension": ".py",
   "mimetype": "text/x-python",
   "name": "python",
   "nbconvert_exporter": "python",
   "pygments_lexer": "ipython3",
   "version": "3.8.8"
  }
 },
 "nbformat": 4,
 "nbformat_minor": 5
}
